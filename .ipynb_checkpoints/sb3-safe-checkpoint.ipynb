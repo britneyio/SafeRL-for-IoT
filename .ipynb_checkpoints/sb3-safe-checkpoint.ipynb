{
 "cells": [
  {
   "cell_type": "code",
   "execution_count": 1,
   "id": "3d4e194c",
   "metadata": {
    "lines_to_next_cell": 2
   },
   "outputs": [
    {
     "data": {
      "text/plain": [
       "'Stable-baselines agent for CyberBattle Gym environment'"
      ]
     },
     "execution_count": 1,
     "metadata": {},
     "output_type": "execute_result"
    }
   ],
   "source": [
    "'''Stable-baselines agent for CyberBattle Gym environment'''"
   ]
  },
  {
   "cell_type": "code",
   "execution_count": 22,
   "id": "ccab04da-1487-4acb-b11d-8d40eb128f95",
   "metadata": {},
   "outputs": [],
   "source": [
    "from typing import cast\n",
    "import sys,os\n",
    "module_path = os.path.abspath(os.path.join('..'))\n",
    "if module_path not in sys.path:\n",
    "    sys.path.append(module_path)\n",
    "from cyberbattle._env.cyberbattle_toyctf import CyberBattleToyCtf\n",
    "from final_project.iot_env import CyberBattleIoT\n",
    "import logging\n",
    "\n",
    "from stable_baselines3.a2c.a2c import A2C\n",
    "from stable_baselines3.ppo.ppo import PPO\n",
    "from stable_baselines3 import SAC\n",
    "from cyberbattle._env.flatten_wrapper import (\n",
    "    FlattenObservationWrapper,\n",
    "    FlattenActionWrapper,\n",
    ")\n",
    "from stable_baselines3 import DQN\n",
    "import os\n",
    "from stable_baselines3.common.type_aliases import GymEnv\n",
    "from stable_baselines3.common.env_checker import check_env\n",
    "import gymnasium as gym\n",
    "import numpy as np\n",
    "from gymnasium import spaces\n",
    "import cyberbattle.agents.baseline.agent_wrapper as w\n",
    "import cyberbattle.agents.baseline.agent_dql as dqla\n",
    "import cyberbattle.agents.baseline.learner as learner\n",
    "from cyberbattle.agents.baseline.agent_wrapper import Verbosity\n",
    "\n",
    "os.environ[\"CUDA_LAUNCH_BLOCKING\"] = \"1\"\n",
    "retrain = [\"sac\", \"safesac\", \"dqn\"]\n",
    "\n",
    "logging.basicConfig(stream=sys.stdout, level=logging.ERROR, format=\"%(levelname)s: %(message)s\")"
   ]
  },
  {
   "cell_type": "code",
   "execution_count": 11,
   "id": "9e639d87",
   "metadata": {},
   "outputs": [],
   "source": [
    "class DictToFlatBoxWrapper(gym.ObservationWrapper):\n",
    "    def __init__(self, env):\n",
    "        super().__init__(env)\n",
    "        flat_sample = self.flatten_observation(self.env.reset()[0])\n",
    "        self.observation_space = spaces.Box(\n",
    "            low=-np.inf,\n",
    "            high=np.inf,\n",
    "            shape=flat_sample.shape,\n",
    "            dtype=np.float32\n",
    "        )\n",
    "\n",
    "    def observation(self, observation):\n",
    "        return self.flatten_observation(observation)\n",
    "\n",
    "    def flatten_observation(self, obs_dict):\n",
    "        # Flatten each value (array/scalar) in the dict and concatenate\n",
    "        flat_obs = []\n",
    "        for k, v in obs_dict.items():\n",
    "            if isinstance(v, (int, float, np.integer, np.floating)):\n",
    "                flat_obs.append(np.array([v], dtype=np.float32))\n",
    "            elif isinstance(v, np.ndarray):\n",
    "                flat_obs.append(v.flatten().astype(np.float32))\n",
    "            else:\n",
    "                raise ValueError(f\"Unsupported observation type: {type(v)} for key: {k}\")\n",
    "        return np.concatenate(flat_obs)\n",
    "\n",
    "class DiscreteToBoxActionWrapper(gym.ActionWrapper):\n",
    "    def __init__(self, env):\n",
    "        super().__init__(env)\n",
    "        assert isinstance(env.action_space, gym.spaces.MultiDiscrete)\n",
    "\n",
    "        self.original_action_space = env.action_space\n",
    "        self.nvec = self.original_action_space.nvec\n",
    "\n",
    "        # Create continuous action space with shape = original MultiDiscrete\n",
    "        self.action_space = gym.spaces.Box(\n",
    "            low=-1.0,\n",
    "            high=1.0,\n",
    "            shape=(len(self.nvec),),\n",
    "            dtype=np.float32\n",
    "        )\n",
    "\n",
    "    def action(self, action: np.ndarray) -> np.ndarray:\n",
    "        \"\"\"\n",
    "        Convert continuous Box action ∈ [-1, 1] to MultiDiscrete action.\n",
    "        Maps each element separately based on its sub-action size.\n",
    "        \"\"\"\n",
    "        scaled = ((action + 1.0) / 2.0) * self.nvec\n",
    "        discrete_action = np.floor(scaled).astype(np.int32)\n",
    "\n",
    "        # Clip to ensure we remain within bounds\n",
    "        return np.clip(discrete_action, 0, self.nvec - 1)"
   ]
  },
  {
   "cell_type": "code",
   "execution_count": 4,
   "id": "5bd64189-7371-4641-87b4-17aca0fe53e0",
   "metadata": {},
   "outputs": [],
   "source": [
    "import torch\n",
    "import torch.nn as nn\n",
    "import torch.nn.functional as F\n",
    "from stable_baselines3 import SAC\n",
    "from stable_baselines3.sac.policies import SACPolicy\n",
    "from stable_baselines3.common.buffers import ReplayBuffer\n",
    "from stable_baselines3.common.off_policy_algorithm import OffPolicyAlgorithm\n",
    "from stable_baselines3.common.type_aliases import TrainFreq, TrainFrequencyUnit, Schedule\n",
    "from typing import Any, Dict, Optional, Type, Union\n",
    "import numpy as np\n",
    "\n",
    "class SafetyCritic(nn.Module):\n",
    "    def __init__(self, obs_dim, action_dim):\n",
    "        super().__init__()\n",
    "        self.net = nn.Sequential(\n",
    "            nn.Linear(int(obs_dim) + int(action_dim), 256),\n",
    "            nn.ReLU(),\n",
    "            nn.Linear(256, 256),\n",
    "            nn.ReLU(),\n",
    "            nn.Linear(256, 1)\n",
    "        )\n",
    "\n",
    "    def forward(self, obs, action):\n",
    "        return self.net(torch.cat([obs, action], dim=-1))\n",
    "\n",
    "class SafeReplayBuffer(ReplayBuffer):\n",
    "    def __init__(self, *args, **kwargs):\n",
    "        super().__init__(*args, **kwargs)\n",
    "        self.safety_flags = np.zeros((self.buffer_size,), dtype=np.bool_)\n",
    "\n",
    "    def add(self, obs, next_obs, action, reward, done, info):\n",
    "        idx = self.pos\n",
    "        self.safety_flags[idx] = info.get(\"unsafe\", False)\n",
    "        super().add(obs, next_obs, action, reward, done, info)\n",
    "\n",
    "    def sample(self, batch_size, env=None):\n",
    "        data = super().sample(batch_size, env)\n",
    "        data[\"safety_flags\"] = torch.tensor(\n",
    "            self.safety_flags[data[\"indices\"]], dtype=torch.float32, device=self.device\n",
    "        ).unsqueeze(-1)\n",
    "        return data\n",
    "\n",
    "class SafeSAC(SAC):\n",
    "    def __init__(self, policy, env, safety_threshold=0.5, **kwargs):\n",
    "            super().__init__(policy, env, **kwargs)\n",
    "            self.safety_threshold = safety_threshold\n",
    "    \n",
    "            # Wait until env is properly set\n",
    "            obs_space = self.observation_space\n",
    "            action_space = self.action_space\n",
    "    \n",
    "            if isinstance(obs_space, gym.spaces.Box):\n",
    "                obs_dim = obs_space.shape[0]\n",
    "            elif isinstance(obs_space, gym.spaces.Dict):\n",
    "                obs_dim = sum([np.prod(v.shape) for v in obs_space.spaces.values()])\n",
    "            else:\n",
    "                raise NotImplementedError(\"Unsupported observation space type\")\n",
    "    \n",
    "            if isinstance(action_space, gym.spaces.Box):\n",
    "                action_dim = action_space.shape[0]\n",
    "            elif isinstance(action_space, gym.spaces.Discrete):\n",
    "                action_dim = 1  # or action_space.n if you're modeling logits\n",
    "            else:\n",
    "                raise NotImplementedError(\"Unsupported action space type\")\n",
    "            self.safety_critic = SafetyCritic(obs_dim, action_dim).to(self.device)\n",
    "            self.safety_critic_target = SafetyCritic(obs_dim, action_dim).to(self.device)\n",
    "            self.safety_critic_target.load_state_dict(self.safety_critic.state_dict())\n",
    "            self.safety_critic_optimizer = torch.optim.Adam(self.safety_critic.parameters(), lr=self.learning_rate)\n",
    "\n",
    "    def train(self, gradient_steps: int, batch_size: int = 64) -> None:\n",
    "        for _ in range(gradient_steps):\n",
    "            replay_data = self.replay_buffer.sample(batch_size, env=self._vec_normalize_env)\n",
    "            with torch.no_grad():\n",
    "                next_action, _ = self.policy.sample(replay_data.next_observations)\n",
    "                next_q = self.safety_critic_target(replay_data.next_observations, next_action)\n",
    "                safety_target = replay_data.safety_flags\n",
    "            current_q = self.safety_critic(replay_data.observations, replay_data.actions)\n",
    "            safety_loss = F.binary_cross_entropy_with_logits(current_q, safety_target)\n",
    "            self.safety_critic_optimizer.zero_grad()\n",
    "            safety_loss.backward()\n",
    "            self.safety_critic_optimizer.step()\n",
    "            super().train(1, batch_size)\n",
    "\n",
    "    def predict(self, observation, state=None, episode_start=None, deterministic=False):\n",
    "        # Get action from policy\n",
    "        actions, _states = self.policy.predict(observation, deterministic=deterministic)\n",
    "    \n",
    "        # Preprocess obs and action for safety critic\n",
    "        #if isinstance(observation, dict):\n",
    "        obs_tensor = self.policy.obs_to_tensor(observation)[0]\n",
    "        if isinstance(obs_tensor, dict):\n",
    "            # Flatten all tensors to 1D before concatenating\n",
    "            obs_tensor = torch.cat([\n",
    "                v.view(-1) if v.dim() > 1 else v for v in obs_tensor.values()\n",
    "            ], dim=0).unsqueeze(0)\n",
    "        # else:\n",
    "        #     obs_tensor = torch.tensor(observation).float().to(self.device).unsqueeze(0)\n",
    "    \n",
    "        action_tensor = torch.tensor(actions).float().to(self.device).unsqueeze(0)\n",
    "        #action_tensor = torch.tensor(actions, dtype=torch.long).to(self.device).unsqueeze(0)  # shape: [1, action_dim]\n",
    "\n",
    "        # Evaluate safety critic\n",
    "        safety_scores = self.safety_critic(obs_tensor, action_tensor)\n",
    "        mask = (torch.sigmoid(safety_scores) > self.safety_threshold).squeeze()\n",
    "    \n",
    "        # If safe, return action, otherwise return default/fallback (e.g., random or zero)\n",
    "        if mask:\n",
    "            return actions, _states\n",
    "        else:\n",
    "            print(\"Unsafe action blocked. Returning safe default.\")\n",
    "            safe_action = np.zeros_like(actions)  # replace with a better fallback if needed\n",
    "            return safe_action, _states\n",
    "    def safe_predict(self, observation, deterministic=False, max_trials=10):\n",
    "        \"\"\"\n",
    "        Predict a safe action using the policy and safety critic.\n",
    "        If no safe action is found after max_trials, fallback to the last sampled action.\n",
    "        \"\"\"\n",
    "        obs_tensor, _ = self.policy.obs_to_tensor(observation)\n",
    "    \n",
    "        # Flatten dict observation\n",
    "        if isinstance(obs_tensor, dict):\n",
    "            obs_tensor = torch.cat(\n",
    "                [v.float().flatten(start_dim=1) if v.ndim > 1 else v.float().unsqueeze(0)\n",
    "                 for v in obs_tensor.values()],\n",
    "                dim=-1\n",
    "            )\n",
    "    \n",
    "        # Ensure obs_tensor is 2D\n",
    "        if obs_tensor.ndim == 1:\n",
    "            obs_tensor = obs_tensor.unsqueeze(0)\n",
    "    \n",
    "        last_action = None\n",
    "    \n",
    "        for _ in range(max_trials):\n",
    "            # Sample action\n",
    "            action, _ = self.policy.predict(observation, deterministic=deterministic)\n",
    "            last_action = action\n",
    "    \n",
    "            # Handle Discrete or MultiDiscrete action space\n",
    "            action_tensor = torch.tensor(action, device=self.device)\n",
    "            if action_tensor.ndim == 1:\n",
    "                action_tensor = action_tensor.unsqueeze(0)  # [1, action_dim] for MultiDiscrete\n",
    "            elif action_tensor.ndim == 0:\n",
    "                action_tensor = action_tensor.view(1, 1)     # [1, 1] for Discrete\n",
    "    \n",
    "            # Evaluate safety\n",
    "            with torch.no_grad():\n",
    "                score = torch.sigmoid(self.safety_critic(obs_tensor, action_tensor)).item()\n",
    "    \n",
    "            if score >= self.safety_threshold:\n",
    "                return action, None\n",
    "    \n",
    "        print(\"[SafeSAC] WARNING: No safe action found. Returning fallback.\")\n",
    "        return last_action, None\n"
   ]
  },
  {
   "cell_type": "code",
   "execution_count": 5,
   "id": "e7fc9795-8f7d-40d1-81fc-c02a46fa9780",
   "metadata": {
    "lines_to_next_cell": 2,
    "scrolled": true
   },
   "outputs": [
    {
     "name": "stdout",
     "output_type": "stream",
     "text": [
      "Filtering out field _discovered_nodes\n",
      "Filtering out field _explored_network\n",
      "// MultiBinary flattened from (12, 12, 2, 10) -> 2880 - dtype: int8 -> int8\n",
      "// MultiBinary flattened from (12, 6) -> 72 - dtype: int8 -> int8\n",
      "// MultiBinary flattened from (12, 12, 13) -> 1872 - dtype: int8 -> int8\n",
      "// MultiDiscrete flattened from [[3 3 3 3 3 3 3 3 3 3 3 3 3 3 3 3 3 3 3 3]\n",
      " [3 3 3 3 3 3 3 3 3 3 3 3 3 3 3 3 3 3 3 3]\n",
      " [3 3 3 3 3 3 3 3 3 3 3 3 3 3 3 3 3 3 3 3]\n",
      " [3 3 3 3 3 3 3 3 3 3 3 3 3 3 3 3 3 3 3 3]\n",
      " [3 3 3 3 3 3 3 3 3 3 3 3 3 3 3 3 3 3 3 3]\n",
      " [3 3 3 3 3 3 3 3 3 3 3 3 3 3 3 3 3 3 3 3]\n",
      " [3 3 3 3 3 3 3 3 3 3 3 3 3 3 3 3 3 3 3 3]\n",
      " [3 3 3 3 3 3 3 3 3 3 3 3 3 3 3 3 3 3 3 3]\n",
      " [3 3 3 3 3 3 3 3 3 3 3 3 3 3 3 3 3 3 3 3]\n",
      " [3 3 3 3 3 3 3 3 3 3 3 3 3 3 3 3 3 3 3 3]\n",
      " [3 3 3 3 3 3 3 3 3 3 3 3 3 3 3 3 3 3 3 3]\n",
      " [3 3 3 3 3 3 3 3 3 3 3 3 3 3 3 3 3 3 3 3]] -> [3 3 3 3 3 3 3 3 3 3 3 3 3 3 3 3 3 3 3 3 3 3 3 3 3 3 3 3 3 3 3 3 3 3 3 3 3\n",
      " 3 3 3 3 3 3 3 3 3 3 3 3 3 3 3 3 3 3 3 3 3 3 3 3 3 3 3 3 3 3 3 3 3 3 3 3 3\n",
      " 3 3 3 3 3 3 3 3 3 3 3 3 3 3 3 3 3 3 3 3 3 3 3 3 3 3 3 3 3 3 3 3 3 3 3 3 3\n",
      " 3 3 3 3 3 3 3 3 3 3 3 3 3 3 3 3 3 3 3 3 3 3 3 3 3 3 3 3 3 3 3 3 3 3 3 3 3\n",
      " 3 3 3 3 3 3 3 3 3 3 3 3 3 3 3 3 3 3 3 3 3 3 3 3 3 3 3 3 3 3 3 3 3 3 3 3 3\n",
      " 3 3 3 3 3 3 3 3 3 3 3 3 3 3 3 3 3 3 3 3 3 3 3 3 3 3 3 3 3 3 3 3 3 3 3 3 3\n",
      " 3 3 3 3 3 3 3 3 3 3 3 3 3 3 3 3 3 3]\n",
      "// MultiDiscrete flattened from [4 4 4 4 4 4 4 4 4 4 4 4] -> [4 4 4 4 4 4 4 4 4 4 4 4]\n",
      "<DictToFlatBoxWrapper<FlattenObservationWrapper<DiscreteToBoxActionWrapper<FlattenActionWrapper<CyberBattleIoT instance>>>>>\n",
      "OrderedDict([('action_mask_connect', array([0, 0, 0, ..., 0, 0, 0], dtype=int8)), ('action_mask_local_vulnerability', array([0, 1, 0, 0, 0, 0, 0, 0, 0, 0, 0, 0, 0, 0, 0, 0, 0, 0, 0, 0, 0, 0,\n",
      "       0, 0, 0, 0, 0, 0, 0, 0, 0, 0, 0, 0, 0, 0, 0, 0, 0, 0, 0, 0, 0, 0,\n",
      "       0, 0, 0, 0, 0, 0, 0, 0, 0, 0, 0, 0, 0, 0, 0, 0, 0, 0, 0, 0, 0, 0,\n",
      "       0, 0, 0, 0, 0, 0], dtype=int8)), ('action_mask_remote_vulnerability', array([1, 1, 1, ..., 0, 0, 0], dtype=int8)), ('credential_cache_length', 0), ('credential_cache_matrix_0', array([0, 0])), ('credential_cache_matrix_1', array([0, 0])), ('credential_cache_matrix_2', array([0, 0])), ('credential_cache_matrix_3', array([0, 0])), ('credential_cache_matrix_4', array([0, 0])), ('credential_cache_matrix_5', array([0, 0])), ('credential_cache_matrix_6', array([0, 0])), ('credential_cache_matrix_7', array([0, 0])), ('credential_cache_matrix_8', array([0, 0])), ('credential_cache_matrix_9', array([0, 0])), ('customer_data_found', 0), ('discovered_node_count', 1), ('discovered_nodes_properties', array([0, 0, 0, 0, 0, 0, 0, 0, 0, 0, 0, 0, 0, 0, 0, 1, 0, 0, 0, 1, 0, 0,\n",
      "       0, 0, 0, 0, 0, 0, 0, 0, 0, 0, 0, 0, 0, 0, 0, 0, 0, 0, 0, 0, 0, 0,\n",
      "       0, 0, 0, 0, 0, 0, 0, 0, 0, 0, 0, 0, 0, 0, 0, 0, 0, 0, 0, 0, 0, 0,\n",
      "       0, 0, 0, 0, 0, 0, 0, 0, 0, 0, 0, 0, 0, 0, 0, 0, 0, 0, 0, 0, 0, 0,\n",
      "       0, 0, 0, 0, 0, 0, 0, 0, 0, 0, 0, 0, 0, 0, 0, 0, 0, 0, 0, 0, 0, 0,\n",
      "       0, 0, 0, 0, 0, 0, 0, 0, 0, 0, 0, 0, 0, 0, 0, 0, 0, 0, 0, 0, 0, 0,\n",
      "       0, 0, 0, 0, 0, 0, 0, 0, 0, 0, 0, 0, 0, 0, 0, 0, 0, 0, 0, 0, 0, 0,\n",
      "       0, 0, 0, 0, 0, 0, 0, 0, 0, 0, 0, 0, 0, 0, 0, 0, 0, 0, 0, 0, 0, 0,\n",
      "       0, 0, 0, 0, 0, 0, 0, 0, 0, 0, 0, 0, 0, 0, 0, 0, 0, 0, 0, 0, 0, 0,\n",
      "       0, 0, 0, 0, 0, 0, 0, 0, 0, 0, 0, 0, 0, 0, 0, 0, 0, 0, 0, 0, 0, 0,\n",
      "       0, 0, 0, 0, 0, 0, 0, 0, 0, 0, 0, 0, 0, 0, 0, 0, 0, 0, 0, 0],\n",
      "      dtype=int32)), ('escalation', 0), ('lateral_move', 0), ('leaked_credentials_0', array([0, 0, 0, 0], dtype=int32)), ('leaked_credentials_1', array([0, 0, 0, 0], dtype=int32)), ('leaked_credentials_2', array([0, 0, 0, 0], dtype=int32)), ('leaked_credentials_3', array([0, 0, 0, 0], dtype=int32)), ('leaked_credentials_4', array([0, 0, 0, 0], dtype=int32)), ('newly_discovered_nodes_count', 0), ('nodes_privilegelevel', array([1, 0, 0, 0, 0, 0, 0, 0, 0, 0, 0, 0], dtype=int32)), ('probe_result', 0)])\n"
     ]
    }
   ],
   "source": [
    "env = CyberBattleIoT(\n",
    "    maximum_node_count=12,\n",
    "    maximum_total_credentials=10,\n",
    "    observation_padding=True,\n",
    "    throws_on_invalid_actions=False,\n",
    ")\n",
    "\n",
    "flatten_action_env = DiscreteToBoxActionWrapper(FlattenActionWrapper(env))\n",
    "\n",
    "flatten_obs_env = FlattenObservationWrapper(flatten_action_env, ignore_fields=[\n",
    "    # DummySpace\n",
    "    \"_credential_cache\",\n",
    "    \"_discovered_nodes\",\n",
    "    \"_explored_network\",\n",
    "])\n",
    "\n",
    "print(DictToFlatBoxWrapper(flatten_obs_env))\n",
    "\n",
    "env_as_gym = cast(GymEnv, flatten_obs_env)\n",
    "\n",
    "o, _ = env_as_gym.reset()\n",
    "print(o)"
   ]
  },
  {
   "cell_type": "code",
   "execution_count": 6,
   "id": "40690da2",
   "metadata": {
    "lines_to_next_cell": 2
   },
   "outputs": [],
   "source": [
    "check_env(flatten_obs_env)"
   ]
  },
  {
   "cell_type": "code",
   "execution_count": 7,
   "id": "eb02541e-69af-43c1-91aa-c7187591a0c8",
   "metadata": {},
   "outputs": [
    {
     "name": "stdout",
     "output_type": "stream",
     "text": [
      "Using cpu device\n",
      "Wrapping the env with a `Monitor` wrapper\n",
      "Wrapping the env in a DummyVecEnv.\n"
     ]
    }
   ],
   "source": [
    "model_safe = SafeSAC(\n",
    "    \"MultiInputPolicy\",\n",
    "    env_as_gym,\n",
    "    verbose=1,buffer_size=100000)\n",
    "\n",
    "model_safe.learn(total_timesteps=100)\n",
    "model_safe.save(\"safe_sac_model\")"
   ]
  },
  {
   "cell_type": "code",
   "execution_count": 8,
   "id": "356485e2-55a9-4a08-ae0c-762dacc79550",
   "metadata": {},
   "outputs": [
    {
     "name": "stdout",
     "output_type": "stream",
     "text": [
      "Using cpu device\n",
      "Wrapping the env with a `Monitor` wrapper\n",
      "Wrapping the env in a DummyVecEnv.\n"
     ]
    }
   ],
   "source": [
    "model_sac = SAC(\"MultiInputPolicy\", env_as_gym, verbose=1, buffer_size=100000)\n",
    "model_sac.learn(total_timesteps=100, log_interval=4)\n",
    "model_sac.save(\"sac_pendulum\")"
   ]
  },
  {
   "cell_type": "code",
   "execution_count": null,
   "id": "8dda3d04-d703-4166-a95a-bfaf8b96cfd8",
   "metadata": {},
   "outputs": [
    {
     "name": "stdout",
     "output_type": "stream",
     "text": [
      "###### DQL\n",
      "Learning with: episode_count=10,iteration_count=1000,ϵ=0.001,ϵ_min=0.1, ϵ_expdecay=50000,γ=0.015, lr=0.01, replaymemory=10000,\n",
      "batch=512, target_update=5\n",
      "  ## Episode: 1/10 'DQL' ϵ=0.0010, γ=0.015, lr=0.01, replaymemory=10000,\n",
      "batch=512, target_update=5\n"
     ]
    },
    {
     "name": "stderr",
     "output_type": "stream",
     "text": [
      "Episode 1|Iteration 0|reward: ------|last_reward_at: ----|Elapsed Time: 0:00:00||/root/cyberbattle/agents/baseline/agent_dql.py:408: UserWarning: Creating a tensor from a list of numpy.ndarrays is extremely slow. Please consider converting the list to a single numpy.ndarray with numpy.array() before converting to a tensor. (Triggered internally at ../torch/csrc/utils/tensor_new.cpp:275.)\n",
      "  state_batch = torch.tensor(states_to_consider).to(device)\n",
      "Episode 1|Iteration 1000|reward:  239.0|last_reward_at:  905|Elapsed Time: 0:00:38||\n"
     ]
    },
    {
     "name": "stdout",
     "output_type": "stream",
     "text": [
      "  Episode 1 stopped at t=1000 \n",
      "  Breakdown [Reward/NoReward (Success rate)]\n",
      "    explore-local: 0/1 (0.00)\n",
      "    explore-remote: 1/0 (1.00)\n",
      "    explore-connect: 0/3 (0.00)\n",
      "    exploit-local: 1/35 (0.03)\n",
      "    exploit-remote: 16/428 (0.04)\n",
      "    exploit-connect: 0/515 (0.00)\n",
      "  exploit deflected to exploration: 3\n",
      "  ## Episode: 2/10 'DQL' ϵ=0.0030, γ=0.015, lr=0.01, replaymemory=10000,\n",
      "batch=512, target_update=5\n"
     ]
    },
    {
     "name": "stderr",
     "output_type": "stream",
     "text": [
      "Episode 2|Iteration 1000|reward:  239.0|last_reward_at:  385|Elapsed Time: 0:01:18||\n"
     ]
    },
    {
     "name": "stdout",
     "output_type": "stream",
     "text": [
      "  Episode 2 stopped at t=1000 \n",
      "  Breakdown [Reward/NoReward (Success rate)]\n",
      "    explore-local: 1/4 (0.20)\n",
      "    explore-remote: 2/9 (0.18)\n",
      "    explore-connect: 0/6 (0.00)\n",
      "    exploit-local: 0/58 (0.00)\n",
      "    exploit-remote: 15/904 (0.02)\n",
      "    exploit-connect: 0/1 (0.00)\n",
      "  exploit deflected to exploration: 17\n",
      "  ## Episode: 3/10 'DQL' ϵ=0.0049, γ=0.015, lr=0.01, replaymemory=10000,\n",
      "batch=512, target_update=5\n"
     ]
    },
    {
     "name": "stderr",
     "output_type": "stream",
     "text": [
      "Episode 3|Iteration 1000|reward:  257.0|last_reward_at:  451|Elapsed Time: 0:01:16||\n"
     ]
    },
    {
     "name": "stdout",
     "output_type": "stream",
     "text": [
      "  Episode 3 stopped at t=1000 \n",
      "  Breakdown [Reward/NoReward (Success rate)]\n",
      "    explore-local: 0/0 (NaN)\n",
      "    explore-remote: 4/6 (0.40)\n",
      "    explore-connect: 0/4 (0.00)\n",
      "    exploit-local: 1/34 (0.03)\n",
      "    exploit-remote: 16/934 (0.02)\n",
      "    exploit-connect: 0/1 (0.00)\n",
      "  exploit deflected to exploration: 9\n",
      "  ## Episode: 4/10 'DQL' ϵ=0.0068, γ=0.015, lr=0.01, replaymemory=10000,\n",
      "batch=512, target_update=5\n"
     ]
    },
    {
     "name": "stderr",
     "output_type": "stream",
     "text": [
      "Episode 4|Iteration 1000|reward:  257.0|last_reward_at:  125|Elapsed Time: 0:01:16||\n"
     ]
    },
    {
     "name": "stdout",
     "output_type": "stream",
     "text": [
      "  Episode 4 stopped at t=1000 \n",
      "  Breakdown [Reward/NoReward (Success rate)]\n",
      "    explore-local: 0/0 (NaN)\n",
      "    explore-remote: 1/8 (0.11)\n",
      "    explore-connect: 0/4 (0.00)\n",
      "    exploit-local: 1/35 (0.03)\n",
      "    exploit-remote: 19/932 (0.02)\n",
      "    exploit-connect: 0/0 (NaN)\n",
      "  exploit deflected to exploration: 5\n",
      "  ## Episode: 5/10 'DQL' ϵ=0.0086, γ=0.015, lr=0.01, replaymemory=10000,\n",
      "batch=512, target_update=5\n"
     ]
    },
    {
     "name": "stderr",
     "output_type": "stream",
     "text": [
      "Episode 5|Iteration 820|reward:  257.0|last_reward_at:  114|Elapsed Time: 0:01:04||"
     ]
    }
   ],
   "source": [
    "envs = cast(CyberBattleIoT, gym.make('CyberBattleIoT-v0').unwrapped)\n",
    "ep = w.EnvironmentBounds.of_identifiers(maximum_node_count=30, maximum_total_credentials=50, identifiers=envs.identifiers)\n",
    "\n",
    "# %%\n",
    "# Evaluate the Deep Q-learning agent for each env using transfer learning\n",
    "_l = dqla.DeepQLearnerPolicy(\n",
    "    ep=ep,\n",
    "    gamma=0.015,\n",
    "    replay_memory_size=10000,\n",
    "    target_update=5,\n",
    "    batch_size=512,\n",
    "    learning_rate=0.01,  # torch default learning rate is 1e-2\n",
    ")\n",
    "dqn_learning_run = learner.epsilon_greedy_search(\n",
    "        cyberbattle_gym_env=env,\n",
    "        environment_properties=ep,\n",
    "        learner=_l,\n",
    "        episode_count=10,\n",
    "        iteration_count=1000,\n",
    "        epsilon=1e-3,\n",
    "        epsilon_exponential_decay=50000,\n",
    "        epsilon_minimum=0.1,\n",
    "        verbosity=Verbosity.Quiet,\n",
    "        render=False,\n",
    "        plot_episodes_length=False,\n",
    "        title=f\"DQL\",\n",
    "    )\n",
    "_l = dqn_learning_run[\"learner\"]\n",
    "print(_l)\n",
    "\n",
    "tiny = cast(CyberBattleEnv, gym.make(f\"ActiveDirectory-v{ngyms}\"))\n",
    "current_o, _ = tiny.reset()\n",
    "tiny.reset(seed=1)\n",
    "wrapped_env = AgentWrapper(tiny, ActionTrackingStateAugmentation(ep, current_o))\n",
    "# Use the trained agent to run the steps one by one\n",
    "max_steps = 1000\n",
    "# next action suggested by DQL agent\n",
    "# h = []\n",
    "for i in range(max_steps):\n",
    "    # run the suggested action\n",
    "    _, next_action, _ = _l.exploit(wrapped_env, current_o)\n",
    "    # h.append((tiny.get_explored_network_node_properties_bitmap_as_numpy(current_o), next_action))\n",
    "    if next_action is None:\n",
    "        print(\"No more learned moves\")\n",
    "        break\n",
    "    current_o, _, is_done, _, _ = wrapped_env.step(next_action)\n",
    "    if is_done:\n",
    "        print(\"Finished simulation\")\n",
    "        break\n",
    "tiny.render()"
   ]
  },
  {
   "cell_type": "code",
   "execution_count": 16,
   "id": "7d590485",
   "metadata": {
    "lines_to_next_cell": 2
   },
   "outputs": [],
   "source": [
    "if \"a2c\" in retrain:\n",
    "    model_a2c = A2C(\"MultiInputPolicy\", env_as_gym).learn(10)\n",
    "    model_a2c.save(\"a2c_trained_iot\")"
   ]
  },
  {
   "cell_type": "code",
   "execution_count": 17,
   "id": "094a8053",
   "metadata": {
    "lines_to_next_cell": 2
   },
   "outputs": [],
   "source": [
    "if \"ppo\" in retrain:\n",
    "    model_ppo = PPO(\"MultiInputPolicy\", env_as_gym).learn(1)\n",
    "    model_ppo.save(\"ppo_trained_iot\")"
   ]
  },
  {
   "cell_type": "code",
   "execution_count": null,
   "id": "ba6fb1b0-a900-412f-94fa-970d46e4c2ca",
   "metadata": {
    "lines_to_next_cell": 2
   },
   "outputs": [],
   "source": [
    "obs , _= env_as_gym.reset() \n",
    "print(obs)\n",
    "\n",
    "for i in range(1000):\n",
    "    assert isinstance(obs, dict)\n",
    "    action, _states = model_dqn.predict(obs)\n",
    "    print(\"action\", action)\n",
    "    print(\"states\", _states)\n",
    "    obs, reward, done, truncated, info = dqn_env.step(action)\n",
    "    print(\"obs\", obs)"
   ]
  },
  {
   "cell_type": "code",
   "execution_count": 115,
   "id": "c00442d7",
   "metadata": {},
   "outputs": [
    {
     "data": {
      "text/html": [
       "<div>\n",
       "<style scoped>\n",
       "    .dataframe tbody tr th:only-of-type {\n",
       "        vertical-align: middle;\n",
       "    }\n",
       "\n",
       "    .dataframe tbody tr th {\n",
       "        vertical-align: top;\n",
       "    }\n",
       "\n",
       "    .dataframe thead th {\n",
       "        text-align: right;\n",
       "    }\n",
       "</style>\n",
       "<table border=\"1\" class=\"dataframe\">\n",
       "  <thead>\n",
       "    <tr style=\"text-align: right;\">\n",
       "      <th></th>\n",
       "      <th>status</th>\n",
       "      <th>properties</th>\n",
       "      <th>local_attacks</th>\n",
       "      <th>remote_attacks</th>\n",
       "    </tr>\n",
       "    <tr>\n",
       "      <th>id</th>\n",
       "      <th></th>\n",
       "      <th></th>\n",
       "      <th></th>\n",
       "      <th></th>\n",
       "    </tr>\n",
       "  </thead>\n",
       "  <tbody>\n",
       "    <tr>\n",
       "      <th>SmartControlWebsite</th>\n",
       "      <td>owned</td>\n",
       "      <td>[html/css, control_panel, privilege_2]</td>\n",
       "      <td>[CloudlessNoAuthBypass]</td>\n",
       "      <td>[BankCredentialLeak, RemoteUnlockDoor, Hardcod...</td>\n",
       "    </tr>\n",
       "    <tr>\n",
       "      <th>SmartAssistant</th>\n",
       "      <td>discovered</td>\n",
       "      <td>NaN</td>\n",
       "      <td>None</td>\n",
       "      <td>[BankCredentialLeak, RemoteUnlockDoor, Hardcod...</td>\n",
       "    </tr>\n",
       "    <tr>\n",
       "      <th>SmartLock</th>\n",
       "      <td>discovered</td>\n",
       "      <td>NaN</td>\n",
       "      <td>None</td>\n",
       "      <td>[BankCredentialLeak, RemoteUnlockDoor, Hardcod...</td>\n",
       "    </tr>\n",
       "  </tbody>\n",
       "</table>\n",
       "</div>"
      ],
      "text/plain": [
       "                         status                              properties  \\\n",
       "id                                                                        \n",
       "SmartControlWebsite       owned  [html/css, control_panel, privilege_2]   \n",
       "SmartAssistant       discovered                                     NaN   \n",
       "SmartLock            discovered                                     NaN   \n",
       "\n",
       "                               local_attacks  \\\n",
       "id                                             \n",
       "SmartControlWebsite  [CloudlessNoAuthBypass]   \n",
       "SmartAssistant                          None   \n",
       "SmartLock                               None   \n",
       "\n",
       "                                                        remote_attacks  \n",
       "id                                                                      \n",
       "SmartControlWebsite  [BankCredentialLeak, RemoteUnlockDoor, Hardcod...  \n",
       "SmartAssistant       [BankCredentialLeak, RemoteUnlockDoor, Hardcod...  \n",
       "SmartLock            [BankCredentialLeak, RemoteUnlockDoor, Hardcod...  "
      ]
     },
     "metadata": {},
     "output_type": "display_data"
    },
    {
     "data": {
      "application/vnd.plotly.v1+json": {
       "config": {
        "plotlyServerURL": "https://plot.ly"
       },
       "data": [
        {
         "name": "cumulative reward",
         "type": "scatter",
         "xaxis": "x",
         "y": [
          0,
          0,
          0,
          0,
          0,
          0,
          0,
          0,
          0,
          0,
          0,
          0,
          0,
          0,
          0,
          0,
          0,
          0,
          0,
          0,
          0,
          0,
          0,
          0,
          0,
          0,
          0,
          0,
          0,
          0,
          0,
          0,
          0,
          0,
          0,
          0,
          0,
          0,
          0,
          0,
          0,
          0,
          0,
          0,
          0,
          0,
          0,
          0,
          0,
          0,
          0,
          0,
          0,
          0,
          0,
          0,
          0,
          0,
          0,
          0,
          0,
          0,
          0,
          0,
          0,
          0,
          0,
          0,
          0,
          0,
          0,
          0,
          0,
          0,
          0,
          0,
          0,
          0,
          0,
          0,
          0,
          0,
          0,
          0,
          0,
          0,
          0,
          0,
          0,
          0,
          0,
          0,
          0,
          0,
          0,
          0,
          0,
          0,
          0,
          0,
          0,
          0,
          0,
          0,
          0,
          0,
          0,
          0,
          0,
          0,
          0,
          0,
          0,
          0,
          0,
          0,
          0,
          0,
          0,
          0,
          0,
          0,
          0,
          0,
          0,
          0,
          0,
          0,
          0,
          0,
          0,
          0,
          0,
          0,
          0,
          0,
          0,
          0,
          0,
          0,
          0,
          0,
          0,
          0,
          0,
          0,
          0,
          0,
          0,
          0,
          0,
          0,
          0,
          0,
          0,
          0,
          0,
          0,
          0,
          0,
          0,
          0,
          0,
          0,
          0,
          0,
          0,
          0,
          0,
          0,
          0,
          0,
          0,
          0,
          0,
          0,
          0,
          0,
          0,
          0,
          0,
          0,
          0,
          0,
          0,
          0,
          0,
          0,
          0,
          0,
          0,
          0,
          0,
          0,
          0,
          0,
          0,
          0,
          0,
          0,
          0,
          0,
          0,
          0,
          0,
          0,
          0,
          0,
          0,
          0,
          0,
          0,
          0,
          0,
          0,
          0,
          0,
          0,
          0,
          0,
          0,
          0,
          0,
          0,
          0,
          0,
          0,
          0,
          0,
          0,
          0,
          0,
          0,
          0,
          0,
          0,
          0,
          0,
          0,
          0,
          0,
          0,
          0,
          0,
          0,
          0,
          0,
          0,
          0,
          0,
          0,
          0,
          0,
          0,
          0,
          0,
          0,
          0,
          0,
          0,
          0,
          0,
          0,
          0,
          0,
          0,
          0,
          0,
          0,
          0,
          0,
          0,
          0,
          0,
          0,
          0,
          0,
          0,
          0,
          0,
          0,
          0,
          0,
          0,
          0,
          0,
          0,
          0,
          0,
          0,
          0,
          0,
          0,
          0,
          0,
          0,
          0,
          0,
          0,
          0,
          0,
          0,
          0,
          0,
          0,
          0,
          0,
          0,
          0,
          6,
          6,
          6,
          6,
          6,
          6,
          6,
          6,
          6,
          6,
          6,
          6,
          6,
          6,
          6,
          6,
          6,
          6,
          6,
          6,
          6,
          6,
          6,
          6,
          6,
          6,
          6,
          12,
          12,
          12,
          12,
          12,
          12,
          12,
          12,
          12,
          12,
          12,
          12,
          12,
          12,
          12,
          12,
          12,
          12,
          12,
          12,
          12,
          12,
          12,
          12,
          12,
          12,
          12,
          12,
          12,
          12,
          12,
          12,
          12,
          12,
          12,
          12,
          12,
          12,
          12,
          12,
          12,
          12,
          12,
          12,
          12,
          12,
          12,
          12,
          12,
          12,
          12,
          12,
          12,
          12,
          12,
          12,
          12,
          12,
          12,
          12,
          12,
          12,
          12,
          12,
          12,
          12,
          12,
          12,
          12,
          12,
          12,
          12,
          12,
          12,
          12,
          12,
          12,
          12,
          12,
          12,
          12,
          12,
          12,
          12,
          12,
          12,
          12,
          12,
          12,
          12,
          12,
          12,
          12,
          12,
          12,
          12,
          12,
          12,
          12,
          12,
          12,
          12,
          12,
          12,
          12,
          12,
          12,
          12,
          12,
          12,
          12,
          12,
          12,
          12,
          12,
          12,
          12,
          12,
          12,
          12,
          12,
          12,
          12,
          12,
          12,
          12,
          12,
          12,
          12,
          12,
          12,
          12,
          12,
          12,
          12,
          12,
          12,
          12,
          12,
          12,
          12,
          12,
          12,
          12,
          12,
          12,
          12,
          12,
          12,
          12,
          12,
          12,
          12,
          12,
          12,
          12,
          12,
          12,
          12,
          12,
          12,
          12,
          12,
          12,
          12,
          12,
          12,
          18,
          18,
          18,
          18,
          18,
          18,
          18,
          18,
          18,
          18,
          18,
          18,
          18,
          18,
          18,
          18,
          18,
          18,
          18,
          18,
          18,
          18,
          18,
          18,
          18,
          18,
          18,
          18,
          18,
          18,
          18,
          18,
          18,
          18,
          18,
          18,
          18,
          18,
          18,
          18,
          18,
          32,
          32,
          32,
          32,
          32,
          32,
          32,
          32,
          32,
          32,
          32,
          32,
          32,
          32,
          32,
          32,
          32,
          32,
          32,
          32,
          32,
          32,
          32,
          32,
          32,
          32,
          32,
          32,
          32,
          32,
          32,
          32,
          32,
          32,
          32,
          32,
          32,
          32,
          32,
          32,
          32,
          32,
          38,
          38,
          38,
          38,
          38,
          38,
          38,
          38,
          38,
          38,
          38,
          38,
          38,
          38,
          38,
          38,
          38,
          38,
          38,
          38,
          38,
          38,
          38,
          38,
          38,
          38,
          44,
          44,
          44,
          44,
          44,
          44,
          44,
          44,
          44,
          44,
          44,
          44,
          44,
          44,
          44,
          44,
          44,
          44,
          44,
          44,
          44,
          44,
          44,
          44,
          44,
          44,
          44,
          44,
          44,
          44,
          44,
          44,
          44,
          44,
          44,
          44,
          44,
          44,
          44,
          44,
          44,
          44,
          44,
          44,
          44,
          44,
          44,
          44,
          44,
          44,
          44,
          44,
          44,
          44,
          44,
          44,
          44,
          44,
          44,
          44,
          44,
          44,
          44,
          44,
          44,
          44,
          44,
          44,
          44,
          44,
          44,
          44,
          44,
          44,
          44,
          44,
          44,
          44,
          44,
          44,
          44,
          44,
          44,
          44,
          44,
          44,
          44,
          44,
          44,
          44,
          44,
          44,
          44,
          44,
          44,
          44,
          44,
          44,
          44,
          44,
          44,
          44,
          44,
          44,
          44,
          44,
          44,
          44,
          44,
          44,
          44,
          44,
          44,
          44,
          44,
          44,
          44,
          44,
          44,
          44,
          44,
          44,
          44,
          44,
          44,
          44,
          44,
          44,
          44,
          44,
          44,
          44,
          44,
          44,
          44,
          44,
          44,
          44,
          44,
          44,
          44,
          44,
          44,
          44,
          44,
          44,
          44,
          44,
          44,
          44,
          44,
          44,
          44,
          44,
          44,
          44,
          44,
          44,
          44,
          44,
          44,
          44,
          44,
          44,
          44,
          44,
          44,
          44,
          44,
          44,
          44,
          44,
          44,
          44,
          44,
          44,
          44,
          44,
          44,
          44,
          44,
          44,
          44,
          44,
          44,
          44,
          44,
          44,
          44,
          44,
          44,
          44,
          44,
          44,
          44,
          44,
          44,
          44,
          44,
          44,
          44,
          44,
          44,
          44,
          44,
          44,
          44,
          44,
          44,
          44,
          44,
          44,
          44,
          44,
          44,
          44,
          44,
          44,
          44,
          44,
          44,
          44,
          44,
          44,
          44,
          44,
          44,
          44,
          44,
          44,
          44,
          44,
          44,
          44,
          44,
          44,
          44,
          44,
          44,
          44,
          44,
          44,
          44,
          44,
          44,
          44,
          44,
          44,
          44,
          44,
          44,
          44,
          44,
          44,
          44,
          44,
          44,
          44,
          44,
          44,
          44,
          44,
          44,
          44,
          44,
          44,
          44,
          44,
          44,
          44,
          44,
          44,
          44,
          44,
          44,
          44,
          44,
          44,
          44,
          44,
          44,
          44,
          44,
          44,
          44,
          44,
          44,
          44,
          44,
          44,
          44,
          44,
          44,
          44,
          58,
          58,
          58,
          58,
          58,
          58,
          58,
          58,
          58,
          58,
          58,
          58,
          58,
          58,
          58,
          58,
          58,
          58,
          58,
          58,
          58,
          58,
          58,
          58,
          58,
          58,
          58,
          58,
          58,
          58,
          58,
          58,
          58,
          58,
          58,
          58,
          58,
          58,
          58,
          58,
          58,
          58,
          58,
          58,
          58,
          58,
          58,
          58,
          58,
          58,
          58,
          58,
          58,
          58,
          58,
          58,
          58,
          58,
          58,
          58,
          58,
          58,
          58,
          58,
          58,
          58,
          58,
          58,
          58,
          58,
          58,
          58,
          58,
          58,
          58,
          58,
          58,
          58,
          58,
          58,
          58,
          58,
          58,
          58,
          58,
          58,
          58,
          58,
          58,
          58,
          58,
          58,
          58,
          58
         ],
         "yaxis": "y"
        },
        {
         "line": {
          "color": "gray"
         },
         "mode": "lines",
         "name": "KNOWS",
         "type": "scatter",
         "x": [
          0
         ],
         "xaxis": "x2",
         "y": [
          0
         ],
         "yaxis": "y2"
        },
        {
         "line": {
          "color": "orange"
         },
         "mode": "lines",
         "name": "REMOTE_EXPLOIT",
         "type": "scatter",
         "x": [
          0
         ],
         "xaxis": "x2",
         "y": [
          0
         ],
         "yaxis": "y2"
        },
        {
         "line": {
          "color": "red"
         },
         "mode": "lines",
         "name": "LATERAL_MOVE",
         "type": "scatter",
         "x": [
          0
         ],
         "xaxis": "x2",
         "y": [
          0
         ],
         "yaxis": "y2"
        },
        {
         "hoverinfo": "text",
         "marker": {
          "color": "#D32F2E",
          "line": {
           "color": "rgb(255,0,0)",
           "width": 8
          },
          "size": 5,
          "symbol": "circle-dot"
         },
         "mode": "markers+text",
         "name": "owned",
         "text": [
          "SmartControlWebsite"
         ],
         "textposition": "bottom center",
         "type": "scatter",
         "x": [
          0
         ],
         "xaxis": "x2",
         "y": [
          0
         ],
         "yaxis": "y2"
        },
        {
         "hoverinfo": "text",
         "marker": {
          "color": "#0e9d00",
          "line": {
           "color": "rgb(0,255,0)",
           "width": 8
          },
          "size": 5,
          "symbol": "circle-dot"
         },
         "mode": "markers+text",
         "name": "discovered",
         "text": [
          "SmartAssistant",
          "SmartLock"
         ],
         "textposition": "bottom center",
         "type": "scatter",
         "x": [
          -0.5,
          0.5
         ],
         "xaxis": "x2",
         "y": [
          -4.371138828673793e-08,
          8.742277657347586e-08
         ],
         "yaxis": "y2"
        }
       ],
       "layout": {
        "annotations": [
         {
          "align": "center",
          "arrowcolor": "orange",
          "arrowhead": 1,
          "arrowsize": 1,
          "arrowwidth": 1,
          "ax": 0,
          "axref": "x2",
          "ay": 0,
          "ayref": "y2",
          "hovertext": "REMOTE_EXPLOIT",
          "opacity": 1,
          "showarrow": true,
          "standoff": 10,
          "startstandoff": 10,
          "x": 0,
          "xref": "x2",
          "y": 0,
          "yref": "y2"
         },
         {
          "align": "center",
          "arrowcolor": "orange",
          "arrowhead": 1,
          "arrowsize": 1,
          "arrowwidth": 1,
          "ax": 0,
          "axref": "x2",
          "ay": 0,
          "ayref": "y2",
          "hovertext": "REMOTE_EXPLOIT",
          "opacity": 1,
          "showarrow": true,
          "standoff": 10,
          "startstandoff": 10,
          "x": -0.5,
          "xref": "x2",
          "y": -4.371138828673793e-08,
          "yref": "y2"
         },
         {
          "align": "center",
          "arrowcolor": "gray",
          "arrowhead": 1,
          "arrowsize": 1,
          "arrowwidth": 1,
          "ax": -0.5,
          "axref": "x2",
          "ay": -4.371138828673793e-08,
          "ayref": "y2",
          "hovertext": "KNOWS",
          "opacity": 1,
          "showarrow": true,
          "standoff": 10,
          "startstandoff": 10,
          "x": -0.5,
          "xref": "x2",
          "y": -4.371138828673793e-08,
          "yref": "y2"
         },
         {
          "align": "center",
          "arrowcolor": "gray",
          "arrowhead": 1,
          "arrowsize": 1,
          "arrowwidth": 1,
          "ax": -0.5,
          "axref": "x2",
          "ay": -4.371138828673793e-08,
          "ayref": "y2",
          "hovertext": "KNOWS",
          "opacity": 1,
          "showarrow": true,
          "standoff": 10,
          "startstandoff": 10,
          "x": 0.5,
          "xref": "x2",
          "y": 8.742277657347586e-08,
          "yref": "y2"
         }
        ],
        "autosize": false,
        "font": {
         "size": 10
        },
        "height": 400,
        "hovermode": "closest",
        "margin": {
         "b": 15,
         "l": 2,
         "r": 2,
         "t": 35
        },
        "showlegend": true,
        "template": {
         "data": {
          "bar": [
           {
            "error_x": {
             "color": "#2a3f5f"
            },
            "error_y": {
             "color": "#2a3f5f"
            },
            "marker": {
             "line": {
              "color": "#E5ECF6",
              "width": 0.5
             },
             "pattern": {
              "fillmode": "overlay",
              "size": 10,
              "solidity": 0.2
             }
            },
            "type": "bar"
           }
          ],
          "barpolar": [
           {
            "marker": {
             "line": {
              "color": "#E5ECF6",
              "width": 0.5
             },
             "pattern": {
              "fillmode": "overlay",
              "size": 10,
              "solidity": 0.2
             }
            },
            "type": "barpolar"
           }
          ],
          "carpet": [
           {
            "aaxis": {
             "endlinecolor": "#2a3f5f",
             "gridcolor": "white",
             "linecolor": "white",
             "minorgridcolor": "white",
             "startlinecolor": "#2a3f5f"
            },
            "baxis": {
             "endlinecolor": "#2a3f5f",
             "gridcolor": "white",
             "linecolor": "white",
             "minorgridcolor": "white",
             "startlinecolor": "#2a3f5f"
            },
            "type": "carpet"
           }
          ],
          "choropleth": [
           {
            "colorbar": {
             "outlinewidth": 0,
             "ticks": ""
            },
            "type": "choropleth"
           }
          ],
          "contour": [
           {
            "colorbar": {
             "outlinewidth": 0,
             "ticks": ""
            },
            "colorscale": [
             [
              0,
              "#0d0887"
             ],
             [
              0.1111111111111111,
              "#46039f"
             ],
             [
              0.2222222222222222,
              "#7201a8"
             ],
             [
              0.3333333333333333,
              "#9c179e"
             ],
             [
              0.4444444444444444,
              "#bd3786"
             ],
             [
              0.5555555555555556,
              "#d8576b"
             ],
             [
              0.6666666666666666,
              "#ed7953"
             ],
             [
              0.7777777777777778,
              "#fb9f3a"
             ],
             [
              0.8888888888888888,
              "#fdca26"
             ],
             [
              1,
              "#f0f921"
             ]
            ],
            "type": "contour"
           }
          ],
          "contourcarpet": [
           {
            "colorbar": {
             "outlinewidth": 0,
             "ticks": ""
            },
            "type": "contourcarpet"
           }
          ],
          "heatmap": [
           {
            "colorbar": {
             "outlinewidth": 0,
             "ticks": ""
            },
            "colorscale": [
             [
              0,
              "#0d0887"
             ],
             [
              0.1111111111111111,
              "#46039f"
             ],
             [
              0.2222222222222222,
              "#7201a8"
             ],
             [
              0.3333333333333333,
              "#9c179e"
             ],
             [
              0.4444444444444444,
              "#bd3786"
             ],
             [
              0.5555555555555556,
              "#d8576b"
             ],
             [
              0.6666666666666666,
              "#ed7953"
             ],
             [
              0.7777777777777778,
              "#fb9f3a"
             ],
             [
              0.8888888888888888,
              "#fdca26"
             ],
             [
              1,
              "#f0f921"
             ]
            ],
            "type": "heatmap"
           }
          ],
          "heatmapgl": [
           {
            "colorbar": {
             "outlinewidth": 0,
             "ticks": ""
            },
            "colorscale": [
             [
              0,
              "#0d0887"
             ],
             [
              0.1111111111111111,
              "#46039f"
             ],
             [
              0.2222222222222222,
              "#7201a8"
             ],
             [
              0.3333333333333333,
              "#9c179e"
             ],
             [
              0.4444444444444444,
              "#bd3786"
             ],
             [
              0.5555555555555556,
              "#d8576b"
             ],
             [
              0.6666666666666666,
              "#ed7953"
             ],
             [
              0.7777777777777778,
              "#fb9f3a"
             ],
             [
              0.8888888888888888,
              "#fdca26"
             ],
             [
              1,
              "#f0f921"
             ]
            ],
            "type": "heatmapgl"
           }
          ],
          "histogram": [
           {
            "marker": {
             "pattern": {
              "fillmode": "overlay",
              "size": 10,
              "solidity": 0.2
             }
            },
            "type": "histogram"
           }
          ],
          "histogram2d": [
           {
            "colorbar": {
             "outlinewidth": 0,
             "ticks": ""
            },
            "colorscale": [
             [
              0,
              "#0d0887"
             ],
             [
              0.1111111111111111,
              "#46039f"
             ],
             [
              0.2222222222222222,
              "#7201a8"
             ],
             [
              0.3333333333333333,
              "#9c179e"
             ],
             [
              0.4444444444444444,
              "#bd3786"
             ],
             [
              0.5555555555555556,
              "#d8576b"
             ],
             [
              0.6666666666666666,
              "#ed7953"
             ],
             [
              0.7777777777777778,
              "#fb9f3a"
             ],
             [
              0.8888888888888888,
              "#fdca26"
             ],
             [
              1,
              "#f0f921"
             ]
            ],
            "type": "histogram2d"
           }
          ],
          "histogram2dcontour": [
           {
            "colorbar": {
             "outlinewidth": 0,
             "ticks": ""
            },
            "colorscale": [
             [
              0,
              "#0d0887"
             ],
             [
              0.1111111111111111,
              "#46039f"
             ],
             [
              0.2222222222222222,
              "#7201a8"
             ],
             [
              0.3333333333333333,
              "#9c179e"
             ],
             [
              0.4444444444444444,
              "#bd3786"
             ],
             [
              0.5555555555555556,
              "#d8576b"
             ],
             [
              0.6666666666666666,
              "#ed7953"
             ],
             [
              0.7777777777777778,
              "#fb9f3a"
             ],
             [
              0.8888888888888888,
              "#fdca26"
             ],
             [
              1,
              "#f0f921"
             ]
            ],
            "type": "histogram2dcontour"
           }
          ],
          "mesh3d": [
           {
            "colorbar": {
             "outlinewidth": 0,
             "ticks": ""
            },
            "type": "mesh3d"
           }
          ],
          "parcoords": [
           {
            "line": {
             "colorbar": {
              "outlinewidth": 0,
              "ticks": ""
             }
            },
            "type": "parcoords"
           }
          ],
          "pie": [
           {
            "automargin": true,
            "type": "pie"
           }
          ],
          "scatter": [
           {
            "fillpattern": {
             "fillmode": "overlay",
             "size": 10,
             "solidity": 0.2
            },
            "type": "scatter"
           }
          ],
          "scatter3d": [
           {
            "line": {
             "colorbar": {
              "outlinewidth": 0,
              "ticks": ""
             }
            },
            "marker": {
             "colorbar": {
              "outlinewidth": 0,
              "ticks": ""
             }
            },
            "type": "scatter3d"
           }
          ],
          "scattercarpet": [
           {
            "marker": {
             "colorbar": {
              "outlinewidth": 0,
              "ticks": ""
             }
            },
            "type": "scattercarpet"
           }
          ],
          "scattergeo": [
           {
            "marker": {
             "colorbar": {
              "outlinewidth": 0,
              "ticks": ""
             }
            },
            "type": "scattergeo"
           }
          ],
          "scattergl": [
           {
            "marker": {
             "colorbar": {
              "outlinewidth": 0,
              "ticks": ""
             }
            },
            "type": "scattergl"
           }
          ],
          "scattermapbox": [
           {
            "marker": {
             "colorbar": {
              "outlinewidth": 0,
              "ticks": ""
             }
            },
            "type": "scattermapbox"
           }
          ],
          "scatterpolar": [
           {
            "marker": {
             "colorbar": {
              "outlinewidth": 0,
              "ticks": ""
             }
            },
            "type": "scatterpolar"
           }
          ],
          "scatterpolargl": [
           {
            "marker": {
             "colorbar": {
              "outlinewidth": 0,
              "ticks": ""
             }
            },
            "type": "scatterpolargl"
           }
          ],
          "scatterternary": [
           {
            "marker": {
             "colorbar": {
              "outlinewidth": 0,
              "ticks": ""
             }
            },
            "type": "scatterternary"
           }
          ],
          "surface": [
           {
            "colorbar": {
             "outlinewidth": 0,
             "ticks": ""
            },
            "colorscale": [
             [
              0,
              "#0d0887"
             ],
             [
              0.1111111111111111,
              "#46039f"
             ],
             [
              0.2222222222222222,
              "#7201a8"
             ],
             [
              0.3333333333333333,
              "#9c179e"
             ],
             [
              0.4444444444444444,
              "#bd3786"
             ],
             [
              0.5555555555555556,
              "#d8576b"
             ],
             [
              0.6666666666666666,
              "#ed7953"
             ],
             [
              0.7777777777777778,
              "#fb9f3a"
             ],
             [
              0.8888888888888888,
              "#fdca26"
             ],
             [
              1,
              "#f0f921"
             ]
            ],
            "type": "surface"
           }
          ],
          "table": [
           {
            "cells": {
             "fill": {
              "color": "#EBF0F8"
             },
             "line": {
              "color": "white"
             }
            },
            "header": {
             "fill": {
              "color": "#C8D4E3"
             },
             "line": {
              "color": "white"
             }
            },
            "type": "table"
           }
          ]
         },
         "layout": {
          "annotationdefaults": {
           "arrowcolor": "#2a3f5f",
           "arrowhead": 0,
           "arrowwidth": 1
          },
          "autotypenumbers": "strict",
          "coloraxis": {
           "colorbar": {
            "outlinewidth": 0,
            "ticks": ""
           }
          },
          "colorscale": {
           "diverging": [
            [
             0,
             "#8e0152"
            ],
            [
             0.1,
             "#c51b7d"
            ],
            [
             0.2,
             "#de77ae"
            ],
            [
             0.3,
             "#f1b6da"
            ],
            [
             0.4,
             "#fde0ef"
            ],
            [
             0.5,
             "#f7f7f7"
            ],
            [
             0.6,
             "#e6f5d0"
            ],
            [
             0.7,
             "#b8e186"
            ],
            [
             0.8,
             "#7fbc41"
            ],
            [
             0.9,
             "#4d9221"
            ],
            [
             1,
             "#276419"
            ]
           ],
           "sequential": [
            [
             0,
             "#0d0887"
            ],
            [
             0.1111111111111111,
             "#46039f"
            ],
            [
             0.2222222222222222,
             "#7201a8"
            ],
            [
             0.3333333333333333,
             "#9c179e"
            ],
            [
             0.4444444444444444,
             "#bd3786"
            ],
            [
             0.5555555555555556,
             "#d8576b"
            ],
            [
             0.6666666666666666,
             "#ed7953"
            ],
            [
             0.7777777777777778,
             "#fb9f3a"
            ],
            [
             0.8888888888888888,
             "#fdca26"
            ],
            [
             1,
             "#f0f921"
            ]
           ],
           "sequentialminus": [
            [
             0,
             "#0d0887"
            ],
            [
             0.1111111111111111,
             "#46039f"
            ],
            [
             0.2222222222222222,
             "#7201a8"
            ],
            [
             0.3333333333333333,
             "#9c179e"
            ],
            [
             0.4444444444444444,
             "#bd3786"
            ],
            [
             0.5555555555555556,
             "#d8576b"
            ],
            [
             0.6666666666666666,
             "#ed7953"
            ],
            [
             0.7777777777777778,
             "#fb9f3a"
            ],
            [
             0.8888888888888888,
             "#fdca26"
            ],
            [
             1,
             "#f0f921"
            ]
           ]
          },
          "colorway": [
           "#636efa",
           "#EF553B",
           "#00cc96",
           "#ab63fa",
           "#FFA15A",
           "#19d3f3",
           "#FF6692",
           "#B6E880",
           "#FF97FF",
           "#FECB52"
          ],
          "font": {
           "color": "#2a3f5f"
          },
          "geo": {
           "bgcolor": "white",
           "lakecolor": "white",
           "landcolor": "#E5ECF6",
           "showlakes": true,
           "showland": true,
           "subunitcolor": "white"
          },
          "hoverlabel": {
           "align": "left"
          },
          "hovermode": "closest",
          "mapbox": {
           "style": "light"
          },
          "paper_bgcolor": "white",
          "plot_bgcolor": "#E5ECF6",
          "polar": {
           "angularaxis": {
            "gridcolor": "white",
            "linecolor": "white",
            "ticks": ""
           },
           "bgcolor": "#E5ECF6",
           "radialaxis": {
            "gridcolor": "white",
            "linecolor": "white",
            "ticks": ""
           }
          },
          "scene": {
           "xaxis": {
            "backgroundcolor": "#E5ECF6",
            "gridcolor": "white",
            "gridwidth": 2,
            "linecolor": "white",
            "showbackground": true,
            "ticks": "",
            "zerolinecolor": "white"
           },
           "yaxis": {
            "backgroundcolor": "#E5ECF6",
            "gridcolor": "white",
            "gridwidth": 2,
            "linecolor": "white",
            "showbackground": true,
            "ticks": "",
            "zerolinecolor": "white"
           },
           "zaxis": {
            "backgroundcolor": "#E5ECF6",
            "gridcolor": "white",
            "gridwidth": 2,
            "linecolor": "white",
            "showbackground": true,
            "ticks": "",
            "zerolinecolor": "white"
           }
          },
          "shapedefaults": {
           "line": {
            "color": "#2a3f5f"
           }
          },
          "ternary": {
           "aaxis": {
            "gridcolor": "white",
            "linecolor": "white",
            "ticks": ""
           },
           "baxis": {
            "gridcolor": "white",
            "linecolor": "white",
            "ticks": ""
           },
           "bgcolor": "#E5ECF6",
           "caxis": {
            "gridcolor": "white",
            "linecolor": "white",
            "ticks": ""
           }
          },
          "title": {
           "x": 0.05
          },
          "xaxis": {
           "automargin": true,
           "gridcolor": "white",
           "linecolor": "white",
           "ticks": "",
           "title": {
            "standoff": 15
           },
           "zerolinecolor": "white",
           "zerolinewidth": 2
          },
          "yaxis": {
           "automargin": true,
           "gridcolor": "white",
           "linecolor": "white",
           "ticks": "",
           "title": {
            "standoff": 15
           },
           "zerolinecolor": "white",
           "zerolinewidth": 2
          }
         }
        },
        "title": {
         "text": "CyberBattle simulation"
        },
        "width": 800,
        "xaxis": {
         "anchor": "y",
         "autorange": true,
         "domain": [
          0,
          0.45
         ],
         "range": [
          0,
          999
         ]
        },
        "xaxis2": {
         "anchor": "y2",
         "autorange": true,
         "domain": [
          0.55,
          1
         ],
         "range": [
          -0.5695058256327843,
          0.5695058256327843
         ],
         "type": "linear"
        },
        "yaxis": {
         "anchor": "x",
         "autorange": true,
         "domain": [
          0,
          1
         ],
         "range": [
          -3.2222222222222223,
          61.22222222222222
         ],
         "type": "linear"
        },
        "yaxis2": {
         "anchor": "x2",
         "autorange": true,
         "domain": [
          0,
          1
         ],
         "range": [
          -5.2471362862420224e-08,
          9.618275114915815e-08
         ],
         "type": "linear"
        }
       }
      },
      "image/png": "[encoded data removed]",
      "text/html": [
       "<div>                            <div id=\"50981bb2-00eb-4b0f-b0c4-b78d8202a496\" class=\"plotly-graph-div\" style=\"height:400px; width:800px;\"></div>            <script type=\"text/javascript\">                require([\"plotly\"], function(Plotly) {                    window.PLOTLYENV=window.PLOTLYENV || {};                                    if (document.getElementById(\"50981bb2-00eb-4b0f-b0c4-b78d8202a496\")) {                    Plotly.newPlot(                        \"50981bb2-00eb-4b0f-b0c4-b78d8202a496\",                        [{\"name\":\"cumulative reward\",\"y\":[0.0,0.0,0.0,0.0,0.0,0.0,0.0,0.0,0.0,0.0,0.0,0.0,0.0,0.0,0.0,0.0,0.0,0.0,0.0,0.0,0.0,0.0,0.0,0.0,0.0,0.0,0.0,0.0,0.0,0.0,0.0,0.0,0.0,0.0,0.0,0.0,0.0,0.0,0.0,0.0,0.0,0.0,0.0,0.0,0.0,0.0,0.0,0.0,0.0,0.0,0.0,0.0,0.0,0.0,0.0,0.0,0.0,0.0,0.0,0.0,0.0,0.0,0.0,0.0,0.0,0.0,0.0,0.0,0.0,0.0,0.0,0.0,0.0,0.0,0.0,0.0,0.0,0.0,0.0,0.0,0.0,0.0,0.0,0.0,0.0,0.0,0.0,0.0,0.0,0.0,0.0,0.0,0.0,0.0,0.0,0.0,0.0,0.0,0.0,0.0,0.0,0.0,0.0,0.0,0.0,0.0,0.0,0.0,0.0,0.0,0.0,0.0,0.0,0.0,0.0,0.0,0.0,0.0,0.0,0.0,0.0,0.0,0.0,0.0,0.0,0.0,0.0,0.0,0.0,0.0,0.0,0.0,0.0,0.0,0.0,0.0,0.0,0.0,0.0,0.0,0.0,0.0,0.0,0.0,0.0,0.0,0.0,0.0,0.0,0.0,0.0,0.0,0.0,0.0,0.0,0.0,0.0,0.0,0.0,0.0,0.0,0.0,0.0,0.0,0.0,0.0,0.0,0.0,0.0,0.0,0.0,0.0,0.0,0.0,0.0,0.0,0.0,0.0,0.0,0.0,0.0,0.0,0.0,0.0,0.0,0.0,0.0,0.0,0.0,0.0,0.0,0.0,0.0,0.0,0.0,0.0,0.0,0.0,0.0,0.0,0.0,0.0,0.0,0.0,0.0,0.0,0.0,0.0,0.0,0.0,0.0,0.0,0.0,0.0,0.0,0.0,0.0,0.0,0.0,0.0,0.0,0.0,0.0,0.0,0.0,0.0,0.0,0.0,0.0,0.0,0.0,0.0,0.0,0.0,0.0,0.0,0.0,0.0,0.0,0.0,0.0,0.0,0.0,0.0,0.0,0.0,0.0,0.0,0.0,0.0,0.0,0.0,0.0,0.0,0.0,0.0,0.0,0.0,0.0,0.0,0.0,0.0,0.0,0.0,0.0,0.0,0.0,0.0,0.0,0.0,0.0,0.0,0.0,0.0,0.0,0.0,0.0,0.0,0.0,0.0,0.0,0.0,0.0,0.0,0.0,0.0,0.0,0.0,0.0,0.0,0.0,0.0,0.0,0.0,0.0,0.0,0.0,0.0,0.0,0.0,0.0,0.0,0.0,0.0,0.0,0.0,0.0,0.0,0.0,6.0,6.0,6.0,6.0,6.0,6.0,6.0,6.0,6.0,6.0,6.0,6.0,6.0,6.0,6.0,6.0,6.0,6.0,6.0,6.0,6.0,6.0,6.0,6.0,6.0,6.0,6.0,12.0,12.0,12.0,12.0,12.0,12.0,12.0,12.0,12.0,12.0,12.0,12.0,12.0,12.0,12.0,12.0,12.0,12.0,12.0,12.0,12.0,12.0,12.0,12.0,12.0,12.0,12.0,12.0,12.0,12.0,12.0,12.0,12.0,12.0,12.0,12.0,12.0,12.0,12.0,12.0,12.0,12.0,12.0,12.0,12.0,12.0,12.0,12.0,12.0,12.0,12.0,12.0,12.0,12.0,12.0,12.0,12.0,12.0,12.0,12.0,12.0,12.0,12.0,12.0,12.0,12.0,12.0,12.0,12.0,12.0,12.0,12.0,12.0,12.0,12.0,12.0,12.0,12.0,12.0,12.0,12.0,12.0,12.0,12.0,12.0,12.0,12.0,12.0,12.0,12.0,12.0,12.0,12.0,12.0,12.0,12.0,12.0,12.0,12.0,12.0,12.0,12.0,12.0,12.0,12.0,12.0,12.0,12.0,12.0,12.0,12.0,12.0,12.0,12.0,12.0,12.0,12.0,12.0,12.0,12.0,12.0,12.0,12.0,12.0,12.0,12.0,12.0,12.0,12.0,12.0,12.0,12.0,12.0,12.0,12.0,12.0,12.0,12.0,12.0,12.0,12.0,12.0,12.0,12.0,12.0,12.0,12.0,12.0,12.0,12.0,12.0,12.0,12.0,12.0,12.0,12.0,12.0,12.0,12.0,12.0,12.0,12.0,12.0,12.0,12.0,12.0,12.0,18.0,18.0,18.0,18.0,18.0,18.0,18.0,18.0,18.0,18.0,18.0,18.0,18.0,18.0,18.0,18.0,18.0,18.0,18.0,18.0,18.0,18.0,18.0,18.0,18.0,18.0,18.0,18.0,18.0,18.0,18.0,18.0,18.0,18.0,18.0,18.0,18.0,18.0,18.0,18.0,18.0,32.0,32.0,32.0,32.0,32.0,32.0,32.0,32.0,32.0,32.0,32.0,32.0,32.0,32.0,32.0,32.0,32.0,32.0,32.0,32.0,32.0,32.0,32.0,32.0,32.0,32.0,32.0,32.0,32.0,32.0,32.0,32.0,32.0,32.0,32.0,32.0,32.0,32.0,32.0,32.0,32.0,32.0,38.0,38.0,38.0,38.0,38.0,38.0,38.0,38.0,38.0,38.0,38.0,38.0,38.0,38.0,38.0,38.0,38.0,38.0,38.0,38.0,38.0,38.0,38.0,38.0,38.0,38.0,44.0,44.0,44.0,44.0,44.0,44.0,44.0,44.0,44.0,44.0,44.0,44.0,44.0,44.0,44.0,44.0,44.0,44.0,44.0,44.0,44.0,44.0,44.0,44.0,44.0,44.0,44.0,44.0,44.0,44.0,44.0,44.0,44.0,44.0,44.0,44.0,44.0,44.0,44.0,44.0,44.0,44.0,44.0,44.0,44.0,44.0,44.0,44.0,44.0,44.0,44.0,44.0,44.0,44.0,44.0,44.0,44.0,44.0,44.0,44.0,44.0,44.0,44.0,44.0,44.0,44.0,44.0,44.0,44.0,44.0,44.0,44.0,44.0,44.0,44.0,44.0,44.0,44.0,44.0,44.0,44.0,44.0,44.0,44.0,44.0,44.0,44.0,44.0,44.0,44.0,44.0,44.0,44.0,44.0,44.0,44.0,44.0,44.0,44.0,44.0,44.0,44.0,44.0,44.0,44.0,44.0,44.0,44.0,44.0,44.0,44.0,44.0,44.0,44.0,44.0,44.0,44.0,44.0,44.0,44.0,44.0,44.0,44.0,44.0,44.0,44.0,44.0,44.0,44.0,44.0,44.0,44.0,44.0,44.0,44.0,44.0,44.0,44.0,44.0,44.0,44.0,44.0,44.0,44.0,44.0,44.0,44.0,44.0,44.0,44.0,44.0,44.0,44.0,44.0,44.0,44.0,44.0,44.0,44.0,44.0,44.0,44.0,44.0,44.0,44.0,44.0,44.0,44.0,44.0,44.0,44.0,44.0,44.0,44.0,44.0,44.0,44.0,44.0,44.0,44.0,44.0,44.0,44.0,44.0,44.0,44.0,44.0,44.0,44.0,44.0,44.0,44.0,44.0,44.0,44.0,44.0,44.0,44.0,44.0,44.0,44.0,44.0,44.0,44.0,44.0,44.0,44.0,44.0,44.0,44.0,44.0,44.0,44.0,44.0,44.0,44.0,44.0,44.0,44.0,44.0,44.0,44.0,44.0,44.0,44.0,44.0,44.0,44.0,44.0,44.0,44.0,44.0,44.0,44.0,44.0,44.0,44.0,44.0,44.0,44.0,44.0,44.0,44.0,44.0,44.0,44.0,44.0,44.0,44.0,44.0,44.0,44.0,44.0,44.0,44.0,44.0,44.0,44.0,44.0,44.0,44.0,44.0,44.0,44.0,44.0,44.0,44.0,44.0,44.0,44.0,44.0,44.0,44.0,44.0,44.0,44.0,44.0,44.0,44.0,44.0,44.0,44.0,44.0,44.0,44.0,44.0,44.0,44.0,44.0,44.0,44.0,44.0,44.0,44.0,58.0,58.0,58.0,58.0,58.0,58.0,58.0,58.0,58.0,58.0,58.0,58.0,58.0,58.0,58.0,58.0,58.0,58.0,58.0,58.0,58.0,58.0,58.0,58.0,58.0,58.0,58.0,58.0,58.0,58.0,58.0,58.0,58.0,58.0,58.0,58.0,58.0,58.0,58.0,58.0,58.0,58.0,58.0,58.0,58.0,58.0,58.0,58.0,58.0,58.0,58.0,58.0,58.0,58.0,58.0,58.0,58.0,58.0,58.0,58.0,58.0,58.0,58.0,58.0,58.0,58.0,58.0,58.0,58.0,58.0,58.0,58.0,58.0,58.0,58.0,58.0,58.0,58.0,58.0,58.0,58.0,58.0,58.0,58.0,58.0,58.0,58.0,58.0,58.0,58.0,58.0,58.0,58.0,58.0],\"type\":\"scatter\",\"xaxis\":\"x\",\"yaxis\":\"y\"},{\"line\":{\"color\":\"gray\"},\"mode\":\"lines\",\"name\":\"KNOWS\",\"x\":[0],\"y\":[0],\"type\":\"scatter\",\"xaxis\":\"x2\",\"yaxis\":\"y2\"},{\"line\":{\"color\":\"orange\"},\"mode\":\"lines\",\"name\":\"REMOTE_EXPLOIT\",\"x\":[0],\"y\":[0],\"type\":\"scatter\",\"xaxis\":\"x2\",\"yaxis\":\"y2\"},{\"line\":{\"color\":\"red\"},\"mode\":\"lines\",\"name\":\"LATERAL_MOVE\",\"x\":[0],\"y\":[0],\"type\":\"scatter\",\"xaxis\":\"x2\",\"yaxis\":\"y2\"},{\"hoverinfo\":\"text\",\"marker\":{\"color\":\"#D32F2E\",\"line\":{\"color\":\"rgb(255,0,0)\",\"width\":8},\"size\":5,\"symbol\":\"circle-dot\"},\"mode\":\"markers+text\",\"name\":\"owned\",\"text\":[\"SmartControlWebsite\"],\"textposition\":\"bottom center\",\"x\":[0.0],\"y\":[0.0],\"type\":\"scatter\",\"xaxis\":\"x2\",\"yaxis\":\"y2\"},{\"hoverinfo\":\"text\",\"marker\":{\"color\":\"#0e9d00\",\"line\":{\"color\":\"rgb(0,255,0)\",\"width\":8},\"size\":5,\"symbol\":\"circle-dot\"},\"mode\":\"markers+text\",\"name\":\"discovered\",\"text\":[\"SmartAssistant\",\"SmartLock\"],\"textposition\":\"bottom center\",\"x\":[-0.5,0.5],\"y\":[-4.371138828673793e-08,8.742277657347586e-08],\"type\":\"scatter\",\"xaxis\":\"x2\",\"yaxis\":\"y2\"}],                        {\"template\":{\"data\":{\"histogram2dcontour\":[{\"type\":\"histogram2dcontour\",\"colorbar\":{\"outlinewidth\":0,\"ticks\":\"\"},\"colorscale\":[[0.0,\"#0d0887\"],[0.1111111111111111,\"#46039f\"],[0.2222222222222222,\"#7201a8\"],[0.3333333333333333,\"#9c179e\"],[0.4444444444444444,\"#bd3786\"],[0.5555555555555556,\"#d8576b\"],[0.6666666666666666,\"#ed7953\"],[0.7777777777777778,\"#fb9f3a\"],[0.8888888888888888,\"#fdca26\"],[1.0,\"#f0f921\"]]}],\"choropleth\":[{\"type\":\"choropleth\",\"colorbar\":{\"outlinewidth\":0,\"ticks\":\"\"}}],\"histogram2d\":[{\"type\":\"histogram2d\",\"colorbar\":{\"outlinewidth\":0,\"ticks\":\"\"},\"colorscale\":[[0.0,\"#0d0887\"],[0.1111111111111111,\"#46039f\"],[0.2222222222222222,\"#7201a8\"],[0.3333333333333333,\"#9c179e\"],[0.4444444444444444,\"#bd3786\"],[0.5555555555555556,\"#d8576b\"],[0.6666666666666666,\"#ed7953\"],[0.7777777777777778,\"#fb9f3a\"],[0.8888888888888888,\"#fdca26\"],[1.0,\"#f0f921\"]]}],\"heatmap\":[{\"type\":\"heatmap\",\"colorbar\":{\"outlinewidth\":0,\"ticks\":\"\"},\"colorscale\":[[0.0,\"#0d0887\"],[0.1111111111111111,\"#46039f\"],[0.2222222222222222,\"#7201a8\"],[0.3333333333333333,\"#9c179e\"],[0.4444444444444444,\"#bd3786\"],[0.5555555555555556,\"#d8576b\"],[0.6666666666666666,\"#ed7953\"],[0.7777777777777778,\"#fb9f3a\"],[0.8888888888888888,\"#fdca26\"],[1.0,\"#f0f921\"]]}],\"heatmapgl\":[{\"type\":\"heatmapgl\",\"colorbar\":{\"outlinewidth\":0,\"ticks\":\"\"},\"colorscale\":[[0.0,\"#0d0887\"],[0.1111111111111111,\"#46039f\"],[0.2222222222222222,\"#7201a8\"],[0.3333333333333333,\"#9c179e\"],[0.4444444444444444,\"#bd3786\"],[0.5555555555555556,\"#d8576b\"],[0.6666666666666666,\"#ed7953\"],[0.7777777777777778,\"#fb9f3a\"],[0.8888888888888888,\"#fdca26\"],[1.0,\"#f0f921\"]]}],\"contourcarpet\":[{\"type\":\"contourcarpet\",\"colorbar\":{\"outlinewidth\":0,\"ticks\":\"\"}}],\"contour\":[{\"type\":\"contour\",\"colorbar\":{\"outlinewidth\":0,\"ticks\":\"\"},\"colorscale\":[[0.0,\"#0d0887\"],[0.1111111111111111,\"#46039f\"],[0.2222222222222222,\"#7201a8\"],[0.3333333333333333,\"#9c179e\"],[0.4444444444444444,\"#bd3786\"],[0.5555555555555556,\"#d8576b\"],[0.6666666666666666,\"#ed7953\"],[0.7777777777777778,\"#fb9f3a\"],[0.8888888888888888,\"#fdca26\"],[1.0,\"#f0f921\"]]}],\"surface\":[{\"type\":\"surface\",\"colorbar\":{\"outlinewidth\":0,\"ticks\":\"\"},\"colorscale\":[[0.0,\"#0d0887\"],[0.1111111111111111,\"#46039f\"],[0.2222222222222222,\"#7201a8\"],[0.3333333333333333,\"#9c179e\"],[0.4444444444444444,\"#bd3786\"],[0.5555555555555556,\"#d8576b\"],[0.6666666666666666,\"#ed7953\"],[0.7777777777777778,\"#fb9f3a\"],[0.8888888888888888,\"#fdca26\"],[1.0,\"#f0f921\"]]}],\"mesh3d\":[{\"type\":\"mesh3d\",\"colorbar\":{\"outlinewidth\":0,\"ticks\":\"\"}}],\"scatter\":[{\"fillpattern\":{\"fillmode\":\"overlay\",\"size\":10,\"solidity\":0.2},\"type\":\"scatter\"}],\"parcoords\":[{\"type\":\"parcoords\",\"line\":{\"colorbar\":{\"outlinewidth\":0,\"ticks\":\"\"}}}],\"scatterpolargl\":[{\"type\":\"scatterpolargl\",\"marker\":{\"colorbar\":{\"outlinewidth\":0,\"ticks\":\"\"}}}],\"bar\":[{\"error_x\":{\"color\":\"#2a3f5f\"},\"error_y\":{\"color\":\"#2a3f5f\"},\"marker\":{\"line\":{\"color\":\"#E5ECF6\",\"width\":0.5},\"pattern\":{\"fillmode\":\"overlay\",\"size\":10,\"solidity\":0.2}},\"type\":\"bar\"}],\"scattergeo\":[{\"type\":\"scattergeo\",\"marker\":{\"colorbar\":{\"outlinewidth\":0,\"ticks\":\"\"}}}],\"scatterpolar\":[{\"type\":\"scatterpolar\",\"marker\":{\"colorbar\":{\"outlinewidth\":0,\"ticks\":\"\"}}}],\"histogram\":[{\"marker\":{\"pattern\":{\"fillmode\":\"overlay\",\"size\":10,\"solidity\":0.2}},\"type\":\"histogram\"}],\"scattergl\":[{\"type\":\"scattergl\",\"marker\":{\"colorbar\":{\"outlinewidth\":0,\"ticks\":\"\"}}}],\"scatter3d\":[{\"type\":\"scatter3d\",\"line\":{\"colorbar\":{\"outlinewidth\":0,\"ticks\":\"\"}},\"marker\":{\"colorbar\":{\"outlinewidth\":0,\"ticks\":\"\"}}}],\"scattermapbox\":[{\"type\":\"scattermapbox\",\"marker\":{\"colorbar\":{\"outlinewidth\":0,\"ticks\":\"\"}}}],\"scatterternary\":[{\"type\":\"scatterternary\",\"marker\":{\"colorbar\":{\"outlinewidth\":0,\"ticks\":\"\"}}}],\"scattercarpet\":[{\"type\":\"scattercarpet\",\"marker\":{\"colorbar\":{\"outlinewidth\":0,\"ticks\":\"\"}}}],\"carpet\":[{\"aaxis\":{\"endlinecolor\":\"#2a3f5f\",\"gridcolor\":\"white\",\"linecolor\":\"white\",\"minorgridcolor\":\"white\",\"startlinecolor\":\"#2a3f5f\"},\"baxis\":{\"endlinecolor\":\"#2a3f5f\",\"gridcolor\":\"white\",\"linecolor\":\"white\",\"minorgridcolor\":\"white\",\"startlinecolor\":\"#2a3f5f\"},\"type\":\"carpet\"}],\"table\":[{\"cells\":{\"fill\":{\"color\":\"#EBF0F8\"},\"line\":{\"color\":\"white\"}},\"header\":{\"fill\":{\"color\":\"#C8D4E3\"},\"line\":{\"color\":\"white\"}},\"type\":\"table\"}],\"barpolar\":[{\"marker\":{\"line\":{\"color\":\"#E5ECF6\",\"width\":0.5},\"pattern\":{\"fillmode\":\"overlay\",\"size\":10,\"solidity\":0.2}},\"type\":\"barpolar\"}],\"pie\":[{\"automargin\":true,\"type\":\"pie\"}]},\"layout\":{\"autotypenumbers\":\"strict\",\"colorway\":[\"#636efa\",\"#EF553B\",\"#00cc96\",\"#ab63fa\",\"#FFA15A\",\"#19d3f3\",\"#FF6692\",\"#B6E880\",\"#FF97FF\",\"#FECB52\"],\"font\":{\"color\":\"#2a3f5f\"},\"hovermode\":\"closest\",\"hoverlabel\":{\"align\":\"left\"},\"paper_bgcolor\":\"white\",\"plot_bgcolor\":\"#E5ECF6\",\"polar\":{\"bgcolor\":\"#E5ECF6\",\"angularaxis\":{\"gridcolor\":\"white\",\"linecolor\":\"white\",\"ticks\":\"\"},\"radialaxis\":{\"gridcolor\":\"white\",\"linecolor\":\"white\",\"ticks\":\"\"}},\"ternary\":{\"bgcolor\":\"#E5ECF6\",\"aaxis\":{\"gridcolor\":\"white\",\"linecolor\":\"white\",\"ticks\":\"\"},\"baxis\":{\"gridcolor\":\"white\",\"linecolor\":\"white\",\"ticks\":\"\"},\"caxis\":{\"gridcolor\":\"white\",\"linecolor\":\"white\",\"ticks\":\"\"}},\"coloraxis\":{\"colorbar\":{\"outlinewidth\":0,\"ticks\":\"\"}},\"colorscale\":{\"sequential\":[[0.0,\"#0d0887\"],[0.1111111111111111,\"#46039f\"],[0.2222222222222222,\"#7201a8\"],[0.3333333333333333,\"#9c179e\"],[0.4444444444444444,\"#bd3786\"],[0.5555555555555556,\"#d8576b\"],[0.6666666666666666,\"#ed7953\"],[0.7777777777777778,\"#fb9f3a\"],[0.8888888888888888,\"#fdca26\"],[1.0,\"#f0f921\"]],\"sequentialminus\":[[0.0,\"#0d0887\"],[0.1111111111111111,\"#46039f\"],[0.2222222222222222,\"#7201a8\"],[0.3333333333333333,\"#9c179e\"],[0.4444444444444444,\"#bd3786\"],[0.5555555555555556,\"#d8576b\"],[0.6666666666666666,\"#ed7953\"],[0.7777777777777778,\"#fb9f3a\"],[0.8888888888888888,\"#fdca26\"],[1.0,\"#f0f921\"]],\"diverging\":[[0,\"#8e0152\"],[0.1,\"#c51b7d\"],[0.2,\"#de77ae\"],[0.3,\"#f1b6da\"],[0.4,\"#fde0ef\"],[0.5,\"#f7f7f7\"],[0.6,\"#e6f5d0\"],[0.7,\"#b8e186\"],[0.8,\"#7fbc41\"],[0.9,\"#4d9221\"],[1,\"#276419\"]]},\"xaxis\":{\"gridcolor\":\"white\",\"linecolor\":\"white\",\"ticks\":\"\",\"title\":{\"standoff\":15},\"zerolinecolor\":\"white\",\"automargin\":true,\"zerolinewidth\":2},\"yaxis\":{\"gridcolor\":\"white\",\"linecolor\":\"white\",\"ticks\":\"\",\"title\":{\"standoff\":15},\"zerolinecolor\":\"white\",\"automargin\":true,\"zerolinewidth\":2},\"scene\":{\"xaxis\":{\"backgroundcolor\":\"#E5ECF6\",\"gridcolor\":\"white\",\"linecolor\":\"white\",\"showbackground\":true,\"ticks\":\"\",\"zerolinecolor\":\"white\",\"gridwidth\":2},\"yaxis\":{\"backgroundcolor\":\"#E5ECF6\",\"gridcolor\":\"white\",\"linecolor\":\"white\",\"showbackground\":true,\"ticks\":\"\",\"zerolinecolor\":\"white\",\"gridwidth\":2},\"zaxis\":{\"backgroundcolor\":\"#E5ECF6\",\"gridcolor\":\"white\",\"linecolor\":\"white\",\"showbackground\":true,\"ticks\":\"\",\"zerolinecolor\":\"white\",\"gridwidth\":2}},\"shapedefaults\":{\"line\":{\"color\":\"#2a3f5f\"}},\"annotationdefaults\":{\"arrowcolor\":\"#2a3f5f\",\"arrowhead\":0,\"arrowwidth\":1},\"geo\":{\"bgcolor\":\"white\",\"landcolor\":\"#E5ECF6\",\"subunitcolor\":\"white\",\"showland\":true,\"showlakes\":true,\"lakecolor\":\"white\"},\"title\":{\"x\":0.05},\"mapbox\":{\"style\":\"light\"}}},\"xaxis\":{\"anchor\":\"y\",\"domain\":[0.0,0.45]},\"yaxis\":{\"anchor\":\"x\",\"domain\":[0.0,1.0]},\"xaxis2\":{\"anchor\":\"y2\",\"domain\":[0.55,1.0]},\"yaxis2\":{\"anchor\":\"x2\",\"domain\":[0.0,1.0]},\"font\":{\"size\":10},\"title\":{\"text\":\"CyberBattle simulation\"},\"showlegend\":true,\"autosize\":false,\"width\":800,\"height\":400,\"margin\":{\"b\":15,\"l\":2,\"r\":2,\"t\":35},\"hovermode\":\"closest\",\"annotations\":[{\"align\":\"center\",\"arrowcolor\":\"orange\",\"arrowhead\":1,\"arrowsize\":1,\"arrowwidth\":1,\"ax\":0.0,\"axref\":\"x2\",\"ay\":0.0,\"ayref\":\"y2\",\"hovertext\":\"REMOTE_EXPLOIT\",\"opacity\":1,\"showarrow\":true,\"standoff\":10,\"startstandoff\":10,\"x\":0.0,\"xref\":\"x2\",\"y\":0.0,\"yref\":\"y2\"},{\"align\":\"center\",\"arrowcolor\":\"orange\",\"arrowhead\":1,\"arrowsize\":1,\"arrowwidth\":1,\"ax\":0.0,\"axref\":\"x2\",\"ay\":0.0,\"ayref\":\"y2\",\"hovertext\":\"REMOTE_EXPLOIT\",\"opacity\":1,\"showarrow\":true,\"standoff\":10,\"startstandoff\":10,\"x\":-0.5,\"xref\":\"x2\",\"y\":-4.371138828673793e-08,\"yref\":\"y2\"},{\"align\":\"center\",\"arrowcolor\":\"gray\",\"arrowhead\":1,\"arrowsize\":1,\"arrowwidth\":1,\"ax\":-0.5,\"axref\":\"x2\",\"ay\":-4.371138828673793e-08,\"ayref\":\"y2\",\"hovertext\":\"KNOWS\",\"opacity\":1,\"showarrow\":true,\"standoff\":10,\"startstandoff\":10,\"x\":-0.5,\"xref\":\"x2\",\"y\":-4.371138828673793e-08,\"yref\":\"y2\"},{\"align\":\"center\",\"arrowcolor\":\"gray\",\"arrowhead\":1,\"arrowsize\":1,\"arrowwidth\":1,\"ax\":-0.5,\"axref\":\"x2\",\"ay\":-4.371138828673793e-08,\"ayref\":\"y2\",\"hovertext\":\"KNOWS\",\"opacity\":1,\"showarrow\":true,\"standoff\":10,\"startstandoff\":10,\"x\":0.5,\"xref\":\"x2\",\"y\":8.742277657347586e-08,\"yref\":\"y2\"}]},                        {\"responsive\": true}                    ).then(function(){\n",
       "                            \n",
       "var gd = document.getElementById('50981bb2-00eb-4b0f-b0c4-b78d8202a496');\n",
       "var x = new MutationObserver(function (mutations, observer) {{\n",
       "        var display = window.getComputedStyle(gd).display;\n",
       "        if (!display || display === 'none') {{\n",
       "            console.log([gd, 'removed!']);\n",
       "            Plotly.purge(gd);\n",
       "            observer.disconnect();\n",
       "        }}\n",
       "}});\n",
       "\n",
       "// Listen for the removal of the full notebook cells\n",
       "var notebookContainer = gd.closest('#notebook-container');\n",
       "if (notebookContainer) {{\n",
       "    x.observe(notebookContainer, {childList: true});\n",
       "}}\n",
       "\n",
       "// Listen for the clearing of the current output cell\n",
       "var outputEl = gd.closest('.output');\n",
       "if (outputEl) {{\n",
       "    x.observe(outputEl, {childList: true});\n",
       "}}\n",
       "\n",
       "                        })                };                });            </script>        </div>"
      ]
     },
     "metadata": {},
     "output_type": "display_data"
    }
   ],
   "source": [
    "flatten_obs_env.render()\n",
    "flatten_obs_env.close()"
   ]
  },
  {
   "cell_type": "code",
   "execution_count": null,
   "id": "3446bc88-de16-4675-87e0-4e0cd6a6b1d7",
   "metadata": {
    "lines_to_next_cell": 2
   },
   "outputs": [],
   "source": []
  }
 ],
 "metadata": {
  "jupytext": {
   "cell_metadata_filter": "-all",
   "main_language": "python",
   "notebook_metadata_filter": "-all"
  },
  "kernelspec": {
   "display_name": "Python 3 (ipykernel)",
   "language": "python",
   "name": "python3"
  },
  "language_info": {
   "codemirror_mode": {
    "name": "ipython",
    "version": 3
   },
   "file_extension": ".py",
   "mimetype": "text/x-python",
   "name": "python",
   "nbconvert_exporter": "python",
   "pygments_lexer": "ipython3",
   "version": "3.9.22"
  }
 },
 "nbformat": 4,
 "nbformat_minor": 5
}
